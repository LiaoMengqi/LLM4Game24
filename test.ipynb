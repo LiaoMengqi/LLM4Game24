{
 "cells": [
  {
   "cell_type": "code",
   "execution_count": null,
   "id": "initial_id",
   "metadata": {
    "collapsed": true
   },
   "outputs": [],
   "source": [
    ""
   ]
  },
  {
   "metadata": {
    "ExecuteTime": {
     "end_time": "2025-01-16T02:38:13.299538Z",
     "start_time": "2025-01-16T02:38:13.289410Z"
    }
   },
   "cell_type": "code",
   "source": [
    "prefix = ('<|im_start|>system\\n{system_prompt}\\n<|im_end|>\\n'\n",
    "              '<|im_start|>human\\n{user_input}\\n<|im_end|>\\n<|im_start|>assistant\\n')\n",
    "print(prefix.format(system_prompt='You are a helpful assistant.', user_input='Hello!'))"
   ],
   "id": "de0a5cea2c338b",
   "outputs": [
    {
     "name": "stdout",
     "output_type": "stream",
     "text": [
      "<|im_start|>system\n",
      "You are a helpful assistant.\n",
      "<|im_end|>\n",
      "<|im_start|>human\n",
      "Hello!\n",
      "<|im_end|>\n",
      "<|im_start|>assistant\n",
      "\n"
     ]
    }
   ],
   "execution_count": 1
  },
  {
   "metadata": {},
   "cell_type": "code",
   "outputs": [],
   "execution_count": null,
   "source": "",
   "id": "ba4397b4291baef0"
  }
 ],
 "metadata": {
  "kernelspec": {
   "display_name": "Python 3",
   "language": "python",
   "name": "python3"
  },
  "language_info": {
   "codemirror_mode": {
    "name": "ipython",
    "version": 2
   },
   "file_extension": ".py",
   "mimetype": "text/x-python",
   "name": "python",
   "nbconvert_exporter": "python",
   "pygments_lexer": "ipython2",
   "version": "2.7.6"
  }
 },
 "nbformat": 4,
 "nbformat_minor": 5
}
